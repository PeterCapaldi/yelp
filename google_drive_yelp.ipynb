{
  "nbformat": 4,
  "nbformat_minor": 0,
  "metadata": {
    "colab": {
      "name": "Copy of google drive yelp.ipynb",
      "version": "0.3.2",
      "provenance": [],
      "collapsed_sections": []
    },
    "kernelspec": {
      "name": "python2",
      "display_name": "Python 2"
    },
    "accelerator": "GPU"
  },
  "cells": [
    {
      "cell_type": "markdown",
      "metadata": {
        "id": "view-in-github",
        "colab_type": "text"
      },
      "source": [
        "[View in Colaboratory](https://colab.research.google.com/github/PeterCapaldi/yelp_Dataset_Experiments/blob/master/google_drive_yelp.ipynb)"
      ]
    },
    {
      "metadata": {
        "id": "ZX_HyEA06czz",
        "colab_type": "code",
        "colab": {}
      },
      "cell_type": "code",
      "source": [
        "!pip install -U -q PyDrive\n",
        " \n",
        "from pydrive.auth import GoogleAuth\n",
        "from pydrive.drive import GoogleDrive\n",
        "from google.colab import auth\n",
        "from oauth2client.client import GoogleCredentials"
      ],
      "execution_count": 0,
      "outputs": []
    },
    {
      "metadata": {
        "id": "FrmAdIFyKEkT",
        "colab_type": "code",
        "colab": {
          "base_uri": "https://localhost:8080/",
          "height": 884
        },
        "outputId": "50fbdc73-8073-40ba-9399-00a87f0ce80a"
      },
      "cell_type": "code",
      "source": [
        "auth.authenticate_user()\n",
        "# 1. Authenticate and create the PyDrive client.\n",
        "\n",
        "\n",
        "class googleDriveFileFetch:\n",
        "  def __init__(self):\n",
        "    self.gauth = GoogleAuth()\n",
        "    self.drive=None\n",
        "    self.file=None\n",
        "  def initCredentials(self):\n",
        "    self.gauth.credentials = GoogleCredentials.get_application_default()\n",
        "  def initDrive(self):\n",
        "    self.drive=GoogleDrive(self.gauth)\n",
        "  def getFileList(self,until=1):\n",
        "    iter=0\n",
        "    file_list = drive.ListFile({'q': \"'root' in parents and trashed=false\"}).GetList()\n",
        "    for file1 in file_list:\n",
        "      if iter>until:\n",
        "        break\n",
        "      print('title: %s, id: %s' % (file1['title'], file1['id']))\n",
        "      iter+=1\n",
        "  def downloadFile(self,fileID='1ATvV46lvvIG4q845h0_KOU9jiBcGw6-B',outputName='l.tar'):\n",
        "    self.file = drive.CreateFile({'id': fileID})\n",
        "    self.file.GetContentFile(outputName)\n",
        "  def listFiles(self):\n",
        "    !ls\n",
        "  def tryExtract(self):\n",
        "    !tar -xvf l.tar\n",
        "    \n",
        "dfetch= googleDriveFileFetch()\n",
        "dfetch.initCredentials()\n",
        "dfetch.initDrive()\n",
        "dfetch.getFileList()\n",
        "dfetch.downloadFile()\n",
        "dfetch.tryExtract()\n",
        "dfetch.listFiles()"
      ],
      "execution_count": 4,
      "outputs": [
        {
          "output_type": "stream",
          "text": [
            "title: WorldBankProject.ipynb, id: 1w7cqH74DqXy-E4TOhTBjbqGaqnUTXRlK\n",
            "title: Copy of yelp_dataset_round8.tar, id: 1ATvV46lvvIG4q845h0_KOU9jiBcGw6-B\n",
            "tar: Ignoring unknown extended header keyword 'SCHILY.dev'\n",
            "tar: Ignoring unknown extended header keyword 'SCHILY.ino'\n",
            "tar: Ignoring unknown extended header keyword 'SCHILY.nlink'\n",
            "./._Dataset_Challenge_Academic_Dataset_Agreement.pdf\n",
            "tar: Ignoring unknown extended header keyword 'SCHILY.dev'\n",
            "tar: Ignoring unknown extended header keyword 'SCHILY.ino'\n",
            "tar: Ignoring unknown extended header keyword 'SCHILY.nlink'\n",
            "Dataset_Challenge_Academic_Dataset_Agreement.pdf\n",
            "tar: Ignoring unknown extended header keyword 'SCHILY.dev'\n",
            "tar: Ignoring unknown extended header keyword 'SCHILY.ino'\n",
            "tar: Ignoring unknown extended header keyword 'SCHILY.nlink'\n",
            "./._Yelp_Dataset_Challenge_Terms_round_8.pdf\n",
            "tar: Ignoring unknown extended header keyword 'SCHILY.dev'\n",
            "tar: Ignoring unknown extended header keyword 'SCHILY.ino'\n",
            "tar: Ignoring unknown extended header keyword 'SCHILY.nlink'\n",
            "Yelp_Dataset_Challenge_Terms_round_8.pdf\n",
            "tar: Ignoring unknown extended header keyword 'LIBARCHIVE.creationtime'\n",
            "tar: Ignoring unknown extended header keyword 'SCHILY.dev'\n",
            "tar: Ignoring unknown extended header keyword 'SCHILY.ino'\n",
            "tar: Ignoring unknown extended header keyword 'SCHILY.nlink'\n",
            "yelp_academic_dataset_business.json\n",
            "tar: Ignoring unknown extended header keyword 'SCHILY.dev'\n",
            "tar: Ignoring unknown extended header keyword 'SCHILY.ino'\n",
            "tar: Ignoring unknown extended header keyword 'SCHILY.nlink'\n",
            "yelp_academic_dataset_checkin.json\n",
            "tar: Ignoring unknown extended header keyword 'LIBARCHIVE.creationtime'\n",
            "tar: Ignoring unknown extended header keyword 'SCHILY.dev'\n",
            "tar: Ignoring unknown extended header keyword 'SCHILY.ino'\n",
            "tar: Ignoring unknown extended header keyword 'SCHILY.nlink'\n",
            "yelp_academic_dataset_review.json\n",
            "tar: Ignoring unknown extended header keyword 'LIBARCHIVE.creationtime'\n",
            "tar: Ignoring unknown extended header keyword 'SCHILY.dev'\n",
            "tar: Ignoring unknown extended header keyword 'SCHILY.ino'\n",
            "tar: Ignoring unknown extended header keyword 'SCHILY.nlink'\n",
            "yelp_academic_dataset_tip.json\n",
            "tar: Ignoring unknown extended header keyword 'LIBARCHIVE.creationtime'\n",
            "tar: Ignoring unknown extended header keyword 'SCHILY.dev'\n",
            "tar: Ignoring unknown extended header keyword 'SCHILY.ino'\n",
            "tar: Ignoring unknown extended header keyword 'SCHILY.nlink'\n",
            "yelp_academic_dataset_user.json\n",
            "datalab\n",
            "Dataset_Challenge_Academic_Dataset_Agreement.pdf\n",
            "l.tar\n",
            "yelp_academic_dataset_business.json\n",
            "yelp_academic_dataset_checkin.json\n",
            "yelp_academic_dataset_review.json\n",
            "yelp_academic_dataset_tip.json\n",
            "yelp_academic_dataset_user.json\n",
            "Yelp_Dataset_Challenge_Terms_round_8.pdf\n"
          ],
          "name": "stdout"
        }
      ]
    },
    {
      "metadata": {
        "id": "0YrElXn8-tKH",
        "colab_type": "code",
        "colab": {
          "base_uri": "https://localhost:8080/",
          "height": 34
        },
        "outputId": "20c3f5cb-0c97-4046-a605-8aa362cc2b4e"
      },
      "cell_type": "code",
      "source": [
        "!ls"
      ],
      "execution_count": 0,
      "outputs": [
        {
          "output_type": "stream",
          "text": [
            "datalab  l.tar\r\n"
          ],
          "name": "stdout"
        }
      ]
    },
    {
      "metadata": {
        "id": "KjgCF3Wg-wXv",
        "colab_type": "code",
        "colab": {
          "base_uri": "https://localhost:8080/",
          "height": 697
        },
        "outputId": "5846ba6b-e768-41c8-d33c-4554ab5d2394"
      },
      "cell_type": "code",
      "source": [
        "!tar -xvf l.tar"
      ],
      "execution_count": 0,
      "outputs": [
        {
          "output_type": "stream",
          "text": [
            "tar: Ignoring unknown extended header keyword 'SCHILY.dev'\r\n",
            "tar: Ignoring unknown extended header keyword 'SCHILY.ino'\r\n",
            "tar: Ignoring unknown extended header keyword 'SCHILY.nlink'\r\n",
            "./._Dataset_Challenge_Academic_Dataset_Agreement.pdf\r\n",
            "tar: Ignoring unknown extended header keyword 'SCHILY.dev'\r\n",
            "tar: Ignoring unknown extended header keyword 'SCHILY.ino'\r\n",
            "tar: Ignoring unknown extended header keyword 'SCHILY.nlink'\r\n",
            "Dataset_Challenge_Academic_Dataset_Agreement.pdf\r\n",
            "tar: Ignoring unknown extended header keyword 'SCHILY.dev'\r\n",
            "tar: Ignoring unknown extended header keyword 'SCHILY.ino'\r\n",
            "tar: Ignoring unknown extended header keyword 'SCHILY.nlink'\r\n",
            "./._Yelp_Dataset_Challenge_Terms_round_8.pdf\r\n",
            "tar: Ignoring unknown extended header keyword 'SCHILY.dev'\r\n",
            "tar: Ignoring unknown extended header keyword 'SCHILY.ino'\r\n",
            "tar: Ignoring unknown extended header keyword 'SCHILY.nlink'\r\n",
            "Yelp_Dataset_Challenge_Terms_round_8.pdf\r\n",
            "tar: Ignoring unknown extended header keyword 'LIBARCHIVE.creationtime'\r\n",
            "tar: Ignoring unknown extended header keyword 'SCHILY.dev'\r\n",
            "tar: Ignoring unknown extended header keyword 'SCHILY.ino'\r\n",
            "tar: Ignoring unknown extended header keyword 'SCHILY.nlink'\r\n",
            "yelp_academic_dataset_business.json\n",
            "tar: Ignoring unknown extended header keyword 'SCHILY.dev'\n",
            "tar: Ignoring unknown extended header keyword 'SCHILY.ino'\n",
            "tar: Ignoring unknown extended header keyword 'SCHILY.nlink'\n",
            "yelp_academic_dataset_checkin.json\n",
            "tar: Ignoring unknown extended header keyword 'LIBARCHIVE.creationtime'\n",
            "tar: Ignoring unknown extended header keyword 'SCHILY.dev'\n",
            "tar: Ignoring unknown extended header keyword 'SCHILY.ino'\n",
            "tar: Ignoring unknown extended header keyword 'SCHILY.nlink'\n",
            "yelp_academic_dataset_review.json\n",
            "tar: Ignoring unknown extended header keyword 'LIBARCHIVE.creationtime'\n",
            "tar: Ignoring unknown extended header keyword 'SCHILY.dev'\n",
            "tar: Ignoring unknown extended header keyword 'SCHILY.ino'\n",
            "tar: Ignoring unknown extended header keyword 'SCHILY.nlink'\n",
            "yelp_academic_dataset_tip.json\n",
            "tar: Ignoring unknown extended header keyword 'LIBARCHIVE.creationtime'\n",
            "tar: Ignoring unknown extended header keyword 'SCHILY.dev'\n",
            "tar: Ignoring unknown extended header keyword 'SCHILY.ino'\n",
            "tar: Ignoring unknown extended header keyword 'SCHILY.nlink'\n",
            "yelp_academic_dataset_user.json\n"
          ],
          "name": "stdout"
        }
      ]
    },
    {
      "metadata": {
        "id": "bV1-eqsQ_YVG",
        "colab_type": "code",
        "colab": {
          "base_uri": "https://localhost:8080/",
          "height": 170
        },
        "outputId": "62b0749a-1524-4338-8d5a-2c550559608b"
      },
      "cell_type": "code",
      "source": [
        "!ls\n"
      ],
      "execution_count": 0,
      "outputs": [
        {
          "output_type": "stream",
          "text": [
            "datalab\r\n",
            "Dataset_Challenge_Academic_Dataset_Agreement.pdf\r\n",
            "l.tar\r\n",
            "yelp_academic_dataset_business.json\r\n",
            "yelp_academic_dataset_checkin.json\r\n",
            "yelp_academic_dataset_review.json\r\n",
            "yelp_academic_dataset_tip.json\r\n",
            "yelp_academic_dataset_user.json\r\n",
            "Yelp_Dataset_Challenge_Terms_round_8.pdf\r\n"
          ],
          "name": "stdout"
        }
      ]
    },
    {
      "metadata": {
        "id": "kWPxPS3YMCas",
        "colab_type": "code",
        "colab": {
          "base_uri": "https://localhost:8080/",
          "height": 139
        },
        "outputId": "7c1c6dfe-e741-499e-e647-04668c4c55fd"
      },
      "cell_type": "code",
      "source": [
        "!pip install -q mlxtend\n",
        "import json\n",
        "import nltk\n",
        "\n",
        "nltk.download('punkt')\n",
        "nltk.download('stopwords')\n",
        "import numpy as np\n",
        "from nltk import pos_tag, word_tokenize\n",
        "from sklearn.svm import SVC, LinearSVC\n",
        "from sklearn.metrics import classification_report\n",
        "from sklearn.metrics import confusion_matrix\n",
        "from sklearn.metrics import accuracy_score\n",
        "from sklearn import metrics\n",
        "from sklearn.multiclass import OneVsOneClassifier\n",
        "from sklearn.multiclass import OneVsRestClassifier\n",
        "from sklearn import cross_validation\n",
        "from sklearn.cross_validation import train_test_split\n",
        "from sklearn.cross_validation import StratifiedKFold\n",
        "from sklearn.naive_bayes import MultinomialNB\n",
        "from nltk.corpus import stopwords\n",
        "from nltk.stem import PorterStemmer\n",
        "from nltk.tokenize import sent_tokenize, word_tokenize\n",
        "from nltk.stem.snowball import SnowballStemmer\n",
        "from nltk.tokenize import RegexpTokenizer\n",
        "from mlxtend.plotting import plot_confusion_matrix\n",
        "import matplotlib.pyplot as plt\n",
        "import numpy as np\n",
        "from sklearn.linear_model import LogisticRegression\n",
        "\n"
      ],
      "execution_count": 0,
      "outputs": [
        {
          "output_type": "stream",
          "text": [
            "[nltk_data] Downloading package punkt to /content/nltk_data...\n",
            "[nltk_data]   Unzipping tokenizers/punkt.zip.\n",
            "[nltk_data] Downloading package stopwords to /content/nltk_data...\n",
            "[nltk_data]   Unzipping corpora/stopwords.zip.\n"
          ],
          "name": "stdout"
        },
        {
          "output_type": "stream",
          "text": [
            "/usr/local/lib/python2.7/dist-packages/sklearn/cross_validation.py:41: DeprecationWarning: This module was deprecated in version 0.18 in favor of the model_selection module into which all the refactored classes and functions are moved. Also note that the interface of the new CV iterators are different from that of this module. This module will be removed in 0.20.\n",
            "  \"This module will be removed in 0.20.\", DeprecationWarning)\n"
          ],
          "name": "stderr"
        }
      ]
    },
    {
      "metadata": {
        "id": "O2zDKHKQRbnW",
        "colab_type": "text"
      },
      "cell_type": "markdown",
      "source": [
        "***Preprocessing(basic)***\n",
        "\n",
        "*   Tokenizing\n",
        "*   Stop word removal\n",
        "*   Stemming\n",
        "\n",
        "**To run the model:**\n",
        "* Download review.json from https://www.yelp.com/dataset.\n",
        "* Put review.json in same directory as this script.\n",
        "\n",
        "**Particularities to DATaSET**\n",
        "\n",
        "*   The Yelp dataset contains tasks for  photo classification, graph mining and natural language processing & sentiment analysis.\n",
        "*    We go for NLP part.\n",
        "*   While  parsing the reviews.JSON file we take only star ratings and text reviews all the other information is ignored.\n",
        "*   The raw data is stored in three different dictionaries on the basis of review, sentiments and stars.\n",
        "*    In the data pre-processing phase, the entire text is converted into lowercase to reduce redundancy in subsequent feature selection. \n",
        " *   Regular Expression for punctuation and other redundant special char removal\n",
        "\n",
        "\n"
      ]
    },
    {
      "metadata": {
        "id": "Nmw3Zf3eRanW",
        "colab_type": "code",
        "colab": {}
      },
      "cell_type": "code",
      "source": [
        "def tokenize_Review_text(reviewList):\n",
        "  \"\"\"\n",
        "      Tokenizing words in each review\n",
        "  \"\"\"\n",
        "  tokenizedWords = {}\n",
        "  for review in reviewList:\n",
        "      tokenizedWords[review[0]] = word_tokenize(review[1])\n",
        "  return tokenizedWords\n",
        "\n",
        "\n",
        "def buildLexicon(tokenizedWords):\n",
        "  \"\"\"\n",
        "      Determining unique words through all reviews\n",
        "  \"\"\"\n",
        "  lexicon = set()\n",
        "  i = 1\n",
        "  for i in range(1, len(tokenizedWords) + 1):\n",
        "    lexicon.update(tokenizedWords[i])\n",
        "  return lexicon\n",
        "\n",
        "\n",
        "def tf(word, tokenizedWords):\n",
        "  \"\"\"\n",
        "    Counting the term frequency(tf) for TF/IDF matrix\n",
        "  \"\"\"\n",
        "  return tokenizedWords.count(word)\n",
        "\n",
        "\n",
        "def createTfIdfMatrix(tokenizedWords):\n",
        "  \"\"\"\n",
        "    USind TF/IDF, \n",
        "    to determine how unique a particular word is to document.\n",
        "    Gererating the TFIDF matrix using individual words TF?IDF score\n",
        "  \"\"\"\n",
        "  lexicon = buildLexicon(tokenizedWords)\n",
        "  tf_vector = {}\n",
        "  for i in range(1, len(tokenizedWords) + 1):\n",
        "    tf_vector[i] = [tf(word, tokenizedWords[i]) for word in lexicon]\n",
        "  return lexicon, tf_vector\n",
        "\n",
        "\n",
        "def createTags(dictSent):\n",
        "  \"\"\"\n",
        "   creating tags\n",
        "  \"\"\"\n",
        "  tags = dictSent.values()\n",
        "  return tags\n",
        "\n",
        "\n",
        "\n",
        "\n",
        "\n",
        "def removeStopwords(tokenizedWords):\n",
        "  \"\"\"\n",
        "    Removing stop words using NLTK inbuilt Stop Word remover\n",
        "  \"\"\"\n",
        "  for i in range(1, len(tokenizedWords) + 1):\n",
        "    filteredWords = [word for word in tokenizedWords[i] if word not in stopwords.words('english')]\n",
        "    tokenizedWords[i] = filteredWords\n",
        "  return tokenizedWords\n",
        "\n",
        "\n",
        "def stemWords(tokenizedWords):\n",
        "  \"\"\"\n",
        "    Using SnowballStemmer for stemming words. Ported Stemmer could also be used .\n",
        "  \"\"\"\n",
        "  from nltk.stem.snowball import SnowballStemmer\n",
        "  stemmer = SnowballStemmer(\"english\")\n",
        "  for i in range(1, len(tokenizedWords) + 1):\n",
        "    for word in tokenizedWords[i]:\n",
        "      filteredWords = [word for word in tokenizedWords[i] if word in stemmer.stem(word)]\n",
        "      tokenizedWords[i] = filteredWords\n",
        "  return tokenizedWords\n"
      ],
      "execution_count": 0,
      "outputs": []
    },
    {
      "metadata": {
        "id": "lGm3chsfTfPK",
        "colab_type": "text"
      },
      "cell_type": "markdown",
      "source": [
        "## Feature Selection \n",
        "Tried following for experimentation, to see result dependency on each.\n",
        "1. With no pre-processing or changes\n",
        "2. Removing English stop words (words that are of little importance ,not carrying much meaning/weight) from the feature set using the stop word removal feature available in\n",
        "Natural Language Toolkit (NLTK) Corpus \n",
        "3. Stemming (i.e. reducing a word to its stem/root form) to\n",
        "remove repetitive features using the Snowball Stemmer algorithm which is a built-in feature in NLTK.\n",
        "and white spaces from the review text.\n",
        "\n",
        "Also, if the star rating is greater\n",
        "3 than 3 value 1.0 is assigned which s inferred as a ”**Positive**” sentiment and otherwise it was assigned 0.0\n",
        "for ”**Negative**” sentiment.\n",
        "\n",
        "3 different machine learning algorithms are implemented and examined: **Naive Bayes**, **SVM** and\n",
        "**Logistic Regression**."
      ]
    },
    {
      "metadata": {
        "id": "g_B4lRd3MTJU",
        "colab_type": "code",
        "colab": {}
      },
      "cell_type": "code",
      "source": [
        "def naive_bayes_function(tokenizedWords, dictSent, dictStar):\n",
        "  \"\"\"\n",
        "    Naive Bayes Model taking TFIDF Matrices as base.\n",
        "  \"\"\"\n",
        "  print\"#\" * 70\n",
        "  print\"\\n NB Classification without any processing\"\n",
        "  print \"#\" * 70\n",
        "  lexicon, tfVector = createTfIdfMatrix(tokenizedWords)\n",
        "  print \"TF Matrix Created...\"\n",
        "  print \"length of vector : \", len(tfVector[1])\n",
        "  tags = createTags(dictSent)\n",
        "  trainVecs = np.array(tfVector.values())\n",
        "  trainTags = np.array(tags)\n",
        "  nb_classification(trainVecs, trainTags)\n",
        "  print\"#\" * 70\n",
        "  print\"\\n NB Classification after removing stop words\"\n",
        "  print \"#\" * 70\n",
        "  tokenizedWords = removeStopwords(tokenizedWords)\n",
        "  lexicon, tfVector = createTfIdfMatrix(tokenizedWords)\n",
        "  print \"TF Matrix Created...\"\n",
        "  print \"length of vector : \", len(tfVector[1])\n",
        "  tags = createTags(dictSent)\n",
        "  trainVecs = np.array(tfVector.values())\n",
        "  trainTags = np.array(tags)\n",
        "  nb_classification(trainVecs, trainTags)\n",
        "  print\"#\" * 70\n",
        "  print\"\\n NB Classification after removing stop words+stemming\"\n",
        "  print \"#\" * 70\n",
        "  # tokenizedWords = removeStopwords(tokenizedWords)\n",
        "  tokenizedWords = stemWords(tokenizedWords)\n",
        "  lexicon, tfVector = createTfIdfMatrix(tokenizedWords)\n",
        "  print \"TF Matrix Created...\"\n",
        "  print \"length of vector : \", len(tfVector[1])\n",
        "  tags = createTags(dictSent)\n",
        "  trainVecs = np.array(tfVector.values())\n",
        "  trainTags = np.array(tags)\n",
        "  nb_classification(trainVecs, trainTags)\n",
        "  print\"#\" * 70\n",
        "  print \"NB Classification into 5 Classes\"\n",
        "  print\"#\" * 70\n",
        "  tags = createTags(dictStar)\n",
        "  trainTags = np.array(tags)\n",
        "  nb_classification(trainVecs, trainTags)\n",
        "\n",
        "\n"
      ],
      "execution_count": 0,
      "outputs": []
    },
    {
      "metadata": {
        "id": "4Idn2i_CMX_i",
        "colab_type": "code",
        "colab": {}
      },
      "cell_type": "code",
      "source": [
        "def svm_function(tokenizedWords, dictSent, dictStar):\n",
        "  \n",
        "  \"\"\"\n",
        "  For the \n",
        "  \"\"\"\n",
        "  print\"\\n SVC Classification w/o any processing\"\n",
        "  print \"#\" * 70\n",
        "  lexicon, tfVector = createTfIdfMatrix(tokenizedWords)\n",
        "  print \"TF Matrix Created...\"\n",
        "  print \"length of vector : \", len(tfVector[1])\n",
        "  tags = createTags(dictSent)\n",
        "  trainVecs = np.array(tfVector.values())\n",
        "  trainTags = np.array(tags)\n",
        "  svc_classification(trainVecs, trainTags)\n",
        "  print\"\\n SVC Classification after removing stop words\"\n",
        "  print \"#\" * 70\n",
        "  tokenizedWords = removeStopwords(tokenizedWords)\n",
        "  lexicon, tfVector = createTfIdfMatrix(tokenizedWords)\n",
        "  print \"TF Matrix Created...\"\n",
        "  print \"length of vector : \", len(tfVector[1])\n",
        "  tags = createTags(dictSent)\n",
        "  trainVecs = np.array(tfVector.values())\n",
        "  trainTags = np.array(tags)\n",
        "  svc_classification(trainVecs, trainTags)\n",
        "  print\"#\" * 70\n",
        "  print\"\\n SVC Classification after removing stop words+stemming\"\n",
        "  tokenizedWords = stemWords(tokenizedWords)\n",
        "  lexicon, tfVector = createTfIdfMatrix(tokenizedWords)\n",
        "  print \"TF Matrix Created...\"\n",
        "  print \"length of vector : \", len(tfVector[1])\n",
        "  tags = createTags(dictSent)\n",
        "  trainVecs = np.array(tfVector.values())\n",
        "  trainTags = np.array(tags)\n",
        "  svc_classification(trainVecs, trainTags)\n",
        "  print \"SVC Classification into 5 Classes\"\n",
        "  tags = createTags(dictStar)\n",
        "  trainTags = np.array(tags)\n",
        "  svc_classification(trainVecs, trainTags)\n",
        "\n"
      ],
      "execution_count": 0,
      "outputs": []
    },
    {
      "metadata": {
        "id": "88qi1E-AMZ6m",
        "colab_type": "code",
        "colab": {}
      },
      "cell_type": "code",
      "source": [
        "def logistic_function(tokenizedWords, dictSent, dictStar):\n",
        "  print\"\\n SVC Classification without any processing\"\n",
        "  print \"#\" * 70\n",
        "  lexicon, tfVector = createTfIdfMatrix(tokenizedWords)\n",
        "  print \"TF Matrix Created...\"\n",
        "  print \"length of vector : \", len(tfVector[1])\n",
        "  tags = createTags(dictSent)\n",
        "  trainVecs = np.array(tfVector.values())\n",
        "  trainTags = np.array(tags)\n",
        "  lr_classification(trainVecs, trainTags)\n",
        "  print\"\\n NB Classification after removing stop words\"\n",
        "  print \"#\" * 70\n",
        "  tokenizedWords = removeStopwords(tokenizedWords)\n",
        "  lexicon, tfVector = createTfIdfMatrix(tokenizedWords)\n",
        "  print \"TF Matrix Created...\"\n",
        "  print \"length of vector : \", len(tfVector[1])\n",
        "  tags = createTags(dictSent)\n",
        "  trainVecs = np.array(tfVector.values())\n",
        "  trainTags = np.array(tags)\n",
        "  lr_classification(trainVecs, trainTags)\n",
        "  print\"\\n SVC Classification after removing stop words+stemming\"\n",
        "  tokenizedWords = stemWords(tokenizedWords)\n",
        "  lexicon, tfVector = createTfIdfMatrix(tokenizedWords)\n",
        "  print \"TF Matrix Created...\"\n",
        "  print \"length of vector : \", len(tfVector[1])\n",
        "  tags = createTags(dictSent)\n",
        "  trainVecs = np.array(tfVector.values())\n",
        "  trainTags = np.array(tags)\n",
        "  lr_classification(trainVecs, trainTags)\n",
        "  print \"SVC Classification into 5 Classes\"\n",
        "  tags = createTags(dictStar)\n",
        "  trainTags = np.array(tags)\n",
        "  lr_classification(trainVecs, trainTags)"
      ],
      "execution_count": 0,
      "outputs": []
    },
    {
      "metadata": {
        "id": "zyMdZvhAMh2R",
        "colab_type": "code",
        "colab": {}
      },
      "cell_type": "code",
      "source": [
        ""
      ],
      "execution_count": 0,
      "outputs": []
    },
    {
      "metadata": {
        "id": "Xi3jB8zJOwsm",
        "colab_type": "code",
        "colab": {}
      },
      "cell_type": "code",
      "source": [
        "def svc_classification(trainVecs, trainTags):\n",
        "  \"\"\"\n",
        "    Using one vs all SVM classifier ,with linear kernel\n",
        "  \"\"\"\n",
        "  clf = OneVsRestClassifier(SVC(C=1, kernel='linear', gamma=1, verbose=False, probability=False))\n",
        "  clf.fit(trainVecs, trainTags)\n",
        "  print \"Classifier Trained...\"\n",
        "  predicted = cross_validation.cross_val_predict(clf, trainVecs, trainTags, cv=5)\n",
        "  print \"Cross Fold Validation Done...\"\n",
        "  print \"accuracy score: \", metrics.accuracy_score(trainTags, predicted)\n",
        "  print \"precision score: \", metrics.precision_score(trainTags, predicted, pos_label=None, average='weighted')\n",
        "  print \"recall score: \", metrics.recall_score(trainTags, predicted, pos_label=None, average='weighted')\n",
        "  print \"classification_report: \\n \", metrics.classification_report(trainTags, predicted)\n",
        "  print \"confusion_matrix:\\n \", metrics.confusion_matrix(trainTags, predicted)\n",
        "  fig, ax = plot_confusion_matrix(conf_mat=metrics.confusion_matrix(trainTags, predicted))\n",
        "  plt.show()\n",
        "\n",
        "\n",
        "def nb_classification(trainVecs, trainTags):\n",
        "  \"\"\"\n",
        "    Naive Bayes Classifier \n",
        "  \"\"\"\n",
        "  clf = MultinomialNB()\n",
        "  clf.fit(trainVecs, trainTags)\n",
        "  print \"Classifier Trained...\"\n",
        "  predicted = cross_validation.cross_val_predict(clf, trainVecs, trainTags, cv=5)\n",
        "  print \"Cross Fold Validation Done...\"\n",
        "  print \"accuracy score: \", metrics.accuracy_score(trainTags, predicted)\n",
        "  print \"precision score: \", metrics.precision_score(trainTags, predicted, pos_label=None, average='weighted')\n",
        "  print \"recall score: \", metrics.recall_score(trainTags, predicted, pos_label=None, average='weighted')\n",
        "  print \"classification_report: \\n \", metrics.classification_report(trainTags, predicted)\n",
        "  print \"confusion_matrix:\\n \", metrics.confusion_matrix(trainTags, predicted)\n",
        "  fig, ax = plot_confusion_matrix(conf_mat=metrics.confusion_matrix(trainTags, predicted))\n",
        "  plt.show()\n",
        "\n",
        "  return\n",
        "\n",
        "\n",
        "def lr_classification(trainVecs, trainTags):\n",
        "  \n",
        "  \"\"\"\n",
        "    Classifying through LOgistic Regression Model\n",
        "  \"\"\"\n",
        "  \n",
        "  clf = LogisticRegression()\n",
        "  clf.fit(trainVecs, trainTags)\n",
        "  print \"Classifier Trained...\"\n",
        "  predicted = cross_validation.cross_val_predict(clf, trainVecs, trainTags, cv=5)\n",
        "  print \"Cross Fold Validation Done...\"\n",
        "  print \"accuracy score: \", metrics.accuracy_score(trainTags, predicted)\n",
        "  print \"precision score: \", metrics.precision_score(trainTags, predicted, pos_label=None, average='weighted')\n",
        "  print \"recall score: \", metrics.recall_score(trainTags, predicted, pos_label=None, average='weighted')\n",
        "  print \"classification_report: \\n \", metrics.classification_report(trainTags, predicted)\n",
        "  print \"confusion_matrix:\\n \", metrics.confusion_matrix(trainTags, predicted)\n",
        "  fig, ax = plot_confusion_matrix(conf_mat=metrics.confusion_matrix(trainTags, predicted))\n",
        "  plt.show()\n",
        "\n",
        "  return"
      ],
      "execution_count": 0,
      "outputs": []
    },
    {
      "metadata": {
        "id": "9ZUC-b2fRR2e",
        "colab_type": "code",
        "colab": {
          "base_uri": "https://localhost:8080/",
          "height": 6847
        },
        "outputId": "45d8ae28-d7b4-49dd-bcbf-0e8428226584"
      },
      "cell_type": "code",
      "source": [
        "!ls\n",
        "def main():\n",
        "  import re\n",
        "  f = open(\"yelp_academic_dataset_review.json\")\n",
        "\n",
        "  line = f.readline()\n",
        "  dictSent = {}\n",
        "  dictStar = {}\n",
        "  reviewList = []\n",
        "  i = 1\n",
        "  sentiment = 'negative'\n",
        "  ps = PorterStemmer()\n",
        "  #cnter=0\n",
        "  while line:\n",
        "    #cnter+=1\n",
        "    line = f.readline()\n",
        "    review = json.loads(line)\n",
        "    index = i\n",
        "    star = review[\"stars\"]\n",
        "    text = review[\"text\"]\n",
        "    text = text.lower()\n",
        "    #\t\ttext = re.sub(r\"[^A-Za-z0-9(),!?\\'\\`]\", \" \", text)\n",
        "    text = re.sub(r\"\\'s\", \" \\'s\", text)\n",
        "    text = re.sub(r\"\\'ve\", \" \\'ve\", text)\n",
        "    text = re.sub(r\"n\\'t\", \" n\\'t\", text)\n",
        "    text = re.sub(r\"\\'re\", \" \\'re\", text)\n",
        "    text = re.sub(r\"\\'d\", \" \\'d\", text)\n",
        "    text = re.sub(r\"\\'ll\", \" \\'ll\", text)\n",
        "    text = re.sub(r\",\", \" , \", text)\n",
        "    text = re.sub(r\"!\", \" ! \", text)\n",
        "    text = re.sub(r\"\\(\", \" \\( \", text)\n",
        "    text = re.sub(r\"\\)\", \" \\) \", text)\n",
        "    text = re.sub(r\"\\?\", \" \\? \", text)\n",
        "    text = re.sub(r\"\\s{2,}\", \" \", text)\n",
        "\n",
        "    if star > 3:\n",
        "      sentiment = '1.0'  # positive\n",
        "    else:\n",
        "      sentiment = '0.0'  # negative\n",
        "    dictSent[index] = sentiment\n",
        "    dictStar[index] = star\n",
        "    reviewList.append([index, text])\n",
        "    i += 1\n",
        "    if i == 1000:\n",
        "      break\n",
        "  f.close()\n",
        "\n",
        "  print \"Dataset Loaded...\"\n",
        "  tokenizedWords = tokenize_Review_text(reviewList)\n",
        "  print \"Reviews Tokenized...\"\n",
        "  naive_bayes_function(tokenizedWords, dictSent, dictStar)\n",
        "  svm_function(tokenizedWords, dictSent, dictStar)\n",
        "  logistic_function(tokenizedWords, dictSent, dictStar)\n",
        "\n",
        "# #reviewPosTag=tokenize_Review_text(reviewList)\n",
        "\n",
        "if __name__ == \"__main__\":\n",
        "  main()"
      ],
      "execution_count": 0,
      "outputs": [
        {
          "output_type": "stream",
          "text": [
            "datalab\r\n",
            "Dataset_Challenge_Academic_Dataset_Agreement.pdf\r\n",
            "l.tar\r\n",
            "nltk_data\r\n",
            "yelp_academic_dataset_business.json\r\n",
            "yelp_academic_dataset_checkin.json\r\n",
            "yelp_academic_dataset_review.json\r\n",
            "yelp_academic_dataset_tip.json\r\n",
            "yelp_academic_dataset_user.json\r\n",
            "Yelp_Dataset_Challenge_Terms_round_8.pdf\r\n",
            "Dataset Loaded...\n",
            "Reviews Tokenized...\n",
            "######################################################################\n",
            "\n",
            " NB Classification without any processing\n",
            "######################################################################\n",
            "TF Matrix Created...\n",
            "length of vector :  8353\n",
            "Classifier Trained...\n",
            "Cross Fold Validation Done...\n",
            "accuracy score:  0.7337337337337337\n",
            "precision score:  0.7337469979877965\n",
            "recall score:  0.7337337337337337\n",
            "classification_report: \n",
            "               precision    recall  f1-score   support\n",
            "\n",
            "        0.0       0.73      0.75      0.74       509\n",
            "        1.0       0.73      0.72      0.73       490\n",
            "\n",
            "avg / total       0.73      0.73      0.73       999\n",
            "\n",
            "confusion_matrix:\n",
            "  [[382 127]\n",
            " [139 351]]\n"
          ],
          "name": "stdout"
        },
        {
          "output_type": "display_data",
          "data": {
            "image/png": "[encoded data removed]",
            "text/plain": [
              "<matplotlib.figure.Figure at 0x7fc4f718cd50>"
            ]
          },
          "metadata": {
            "tags": []
          }
        },
        {
          "output_type": "stream",
          "text": [
            "######################################################################\n",
            "\n",
            " NB Classification after removing stop words\n",
            "######################################################################\n",
            "TF Matrix Created...\n",
            "length of vector :  8224\n",
            "Classifier Trained...\n",
            "Cross Fold Validation Done...\n",
            "accuracy score:  0.7307307307307307\n",
            "precision score:  0.7307419114674114\n",
            "recall score:  0.7307307307307307\n",
            "classification_report: \n",
            "               precision    recall  f1-score   support\n",
            "\n",
            "        0.0       0.74      0.73      0.74       509\n",
            "        1.0       0.73      0.73      0.73       490\n",
            "\n",
            "avg / total       0.73      0.73      0.73       999\n",
            "\n",
            "confusion_matrix:\n",
            "  [[374 135]\n",
            " [134 356]]\n"
          ],
          "name": "stdout"
        },
        {
          "output_type": "display_data",
          "data": {
            "image/png": "[encoded data removed]",
            "text/plain": [
              "<matplotlib.figure.Figure at 0x7fc4f4240d50>"
            ]
          },
          "metadata": {
            "tags": []
          }
        },
        {
          "output_type": "stream",
          "text": [
            "######################################################################\n",
            "\n",
            " NB Classification after removing stop words+stemming\n",
            "######################################################################\n",
            "TF Matrix Created...\n",
            "length of vector :  3794\n",
            "Classifier Trained...\n",
            "Cross Fold Validation Done...\n",
            "accuracy score:  0.7007007007007007\n",
            "precision score:  0.7008648172572436\n",
            "recall score:  0.7007007007007007\n",
            "classification_report: \n",
            "               precision    recall  f1-score   support\n",
            "\n",
            "        0.0       0.70      0.73      0.71       509\n",
            "        1.0       0.70      0.67      0.69       490\n",
            "\n",
            "avg / total       0.70      0.70      0.70       999\n",
            "\n",
            "confusion_matrix:\n",
            "  [[371 138]\n",
            " [161 329]]\n"
          ],
          "name": "stdout"
        },
        {
          "output_type": "display_data",
          "data": {
            "image/png": "[encoded data removed]",
            "text/plain": [
              "<matplotlib.figure.Figure at 0x7fc4f6623510>"
            ]
          },
          "metadata": {
            "tags": []
          }
        },
        {
          "output_type": "stream",
          "text": [
            "######################################################################\n",
            "NB Classification into 5 Classes\n",
            "######################################################################\n",
            "Classifier Trained...\n",
            "Cross Fold Validation Done...\n",
            "accuracy score:  0.34434434434434436\n",
            "precision score:  0.3595803992918165\n",
            "recall score:  0.34434434434434436\n",
            "classification_report: \n",
            "               precision    recall  f1-score   support\n",
            "\n",
            "          1       0.59      0.50      0.54       179\n",
            "          2       0.22      0.16      0.19       135\n",
            "          3       0.30      0.32      0.31       195\n",
            "          4       0.26      0.36      0.30       253\n",
            "          5       0.42      0.33      0.37       237\n",
            "\n",
            "avg / total       0.36      0.34      0.35       999\n",
            "\n",
            "confusion_matrix:\n",
            "  [[ 89  30  27  23  10]\n",
            " [ 23  22  42  38  10]\n",
            " [ 15  16  63  84  17]\n",
            " [  6  19  64  91  73]\n",
            " [ 17  11  17 113  79]]\n"
          ],
          "name": "stdout"
        },
        {
          "output_type": "display_data",
          "data": {
            "image/png": "[encoded data removed]",
            "text/plain": [
              "<matplotlib.figure.Figure at 0x7fc4f6c41e10>"
            ]
          },
          "metadata": {
            "tags": []
          }
        },
        {
          "output_type": "stream",
          "text": [
            "\n",
            " SVC Classification w/o any processing\n",
            "######################################################################\n",
            "TF Matrix Created...\n",
            "length of vector :  3794\n",
            "Classifier Trained...\n",
            "Cross Fold Validation Done...\n",
            "accuracy score:  0.6546546546546547\n",
            "precision score:  0.6545967421821178\n",
            "recall score:  0.6546546546546547\n",
            "classification_report: \n",
            "               precision    recall  f1-score   support\n",
            "\n",
            "        0.0       0.66      0.68      0.67       509\n",
            "        1.0       0.65      0.63      0.64       490\n",
            "\n",
            "avg / total       0.65      0.65      0.65       999\n",
            "\n",
            "confusion_matrix:\n",
            "  [[344 165]\n",
            " [180 310]]\n"
          ],
          "name": "stdout"
        },
        {
          "output_type": "display_data",
          "data": {
            "image/png": "[encoded data removed]",
            "text/plain": [
              "<matplotlib.figure.Figure at 0x7fc4f682e250>"
            ]
          },
          "metadata": {
            "tags": []
          }
        },
        {
          "output_type": "stream",
          "text": [
            "\n",
            " SVC Classification after removing stop words\n",
            "######################################################################\n",
            "TF Matrix Created...\n",
            "length of vector :  3794\n",
            "Classifier Trained...\n",
            "Cross Fold Validation Done...\n",
            "accuracy score:  0.6546546546546547\n",
            "precision score:  0.6545967421821178\n",
            "recall score:  0.6546546546546547\n",
            "classification_report: \n",
            "               precision    recall  f1-score   support\n",
            "\n",
            "        0.0       0.66      0.68      0.67       509\n",
            "        1.0       0.65      0.63      0.64       490\n",
            "\n",
            "avg / total       0.65      0.65      0.65       999\n",
            "\n",
            "confusion_matrix:\n",
            "  [[344 165]\n",
            " [180 310]]\n"
          ],
          "name": "stdout"
        },
        {
          "output_type": "display_data",
          "data": {
            "image/png": "[encoded data removed]",
            "text/plain": [
              "<matplotlib.figure.Figure at 0x7fc4f445e750>"
            ]
          },
          "metadata": {
            "tags": []
          }
        },
        {
          "output_type": "stream",
          "text": [
            "######################################################################\n",
            "\n",
            " SVC Classification after removing stop words+stemming\n",
            "TF Matrix Created...\n",
            "length of vector :  3794\n",
            "Classifier Trained...\n",
            "Cross Fold Validation Done...\n",
            "accuracy score:  0.6546546546546547\n",
            "precision score:  0.6545967421821178\n",
            "recall score:  0.6546546546546547\n",
            "classification_report: \n",
            "               precision    recall  f1-score   support\n",
            "\n",
            "        0.0       0.66      0.68      0.67       509\n",
            "        1.0       0.65      0.63      0.64       490\n",
            "\n",
            "avg / total       0.65      0.65      0.65       999\n",
            "\n",
            "confusion_matrix:\n",
            "  [[344 165]\n",
            " [180 310]]\n"
          ],
          "name": "stdout"
        },
        {
          "output_type": "display_data",
          "data": {
            "image/png": "[encoded data removed]",
            "text/plain": [
              "<matplotlib.figure.Figure at 0x7fc4f6be54d0>"
            ]
          },
          "metadata": {
            "tags": []
          }
        },
        {
          "output_type": "stream",
          "text": [
            "SVC Classification into 5 Classes\n",
            "Classifier Trained...\n",
            "Cross Fold Validation Done...\n",
            "accuracy score:  0.3303303303303303\n",
            "precision score:  0.32437136897206387\n",
            "recall score:  0.3303303303303303\n",
            "classification_report: \n",
            "               precision    recall  f1-score   support\n",
            "\n",
            "          1       0.50      0.47      0.49       179\n",
            "          2       0.17      0.14      0.15       135\n",
            "          3       0.26      0.25      0.25       195\n",
            "          4       0.26      0.26      0.26       253\n",
            "          5       0.40      0.48      0.44       237\n",
            "\n",
            "avg / total       0.32      0.33      0.33       999\n",
            "\n",
            "confusion_matrix:\n",
            "  [[ 85  22  26  17  29]\n",
            " [ 28  19  35  34  19]\n",
            " [ 23  33  48  63  28]\n",
            " [ 16  25  54  65  93]\n",
            " [ 17  13  20  74 113]]\n"
          ],
          "name": "stdout"
        },
        {
          "output_type": "display_data",
          "data": {
            "image/png": "[encoded data removed]",
            "text/plain": [
              "<matplotlib.figure.Figure at 0x7fc4f6cfad10>"
            ]
          },
          "metadata": {
            "tags": []
          }
        },
        {
          "output_type": "stream",
          "text": [
            "\n",
            " SVC Classification without any processing\n",
            "######################################################################\n",
            "TF Matrix Created...\n",
            "length of vector :  3794\n",
            "Classifier Trained...\n",
            "Cross Fold Validation Done...\n",
            "accuracy score:  0.6976976976976977\n",
            "precision score:  0.6977564248017608\n",
            "recall score:  0.6976976976976977\n",
            "classification_report: \n",
            "               precision    recall  f1-score   support\n",
            "\n",
            "        0.0       0.70      0.70      0.70       509\n",
            "        1.0       0.69      0.70      0.69       490\n",
            "\n",
            "avg / total       0.70      0.70      0.70       999\n",
            "\n",
            "confusion_matrix:\n",
            "  [[356 153]\n",
            " [149 341]]\n"
          ],
          "name": "stdout"
        },
        {
          "output_type": "display_data",
          "data": {
            "image/png": "[encoded data removed]",
            "text/plain": [
              "<matplotlib.figure.Figure at 0x7fc4f6b51610>"
            ]
          },
          "metadata": {
            "tags": []
          }
        },
        {
          "output_type": "stream",
          "text": [
            "\n",
            " NB Classification after removing stop words\n",
            "######################################################################\n",
            "TF Matrix Created...\n",
            "length of vector :  3794\n",
            "Classifier Trained...\n",
            "Cross Fold Validation Done...\n",
            "accuracy score:  0.6976976976976977\n",
            "precision score:  0.6977564248017608\n",
            "recall score:  0.6976976976976977\n",
            "classification_report: \n",
            "               precision    recall  f1-score   support\n",
            "\n",
            "        0.0       0.70      0.70      0.70       509\n",
            "        1.0       0.69      0.70      0.69       490\n",
            "\n",
            "avg / total       0.70      0.70      0.70       999\n",
            "\n",
            "confusion_matrix:\n",
            "  [[356 153]\n",
            " [149 341]]\n"
          ],
          "name": "stdout"
        },
        {
          "output_type": "display_data",
          "data": {
            "image/png": "[encoded data removed]",
            "text/plain": [
              "<matplotlib.figure.Figure at 0x7fc4f697c650>"
            ]
          },
          "metadata": {
            "tags": []
          }
        },
        {
          "output_type": "stream",
          "text": [
            "\n",
            " SVC Classification after removing stop words+stemming\n",
            "TF Matrix Created...\n",
            "length of vector :  3794\n",
            "Classifier Trained...\n",
            "Cross Fold Validation Done...\n",
            "accuracy score:  0.6976976976976977\n",
            "precision score:  0.6977564248017608\n",
            "recall score:  0.6976976976976977\n",
            "classification_report: \n",
            "               precision    recall  f1-score   support\n",
            "\n",
            "        0.0       0.70      0.70      0.70       509\n",
            "        1.0       0.69      0.70      0.69       490\n",
            "\n",
            "avg / total       0.70      0.70      0.70       999\n",
            "\n",
            "confusion_matrix:\n",
            "  [[356 153]\n",
            " [149 341]]\n"
          ],
          "name": "stdout"
        },
        {
          "output_type": "display_data",
          "data": {
            "image/png": "[encoded data removed]",
            "text/plain": [
              "<matplotlib.figure.Figure at 0x7fc4f6874750>"
            ]
          },
          "metadata": {
            "tags": []
          }
        },
        {
          "output_type": "stream",
          "text": [
            "SVC Classification into 5 Classes\n",
            "Classifier Trained...\n",
            "Cross Fold Validation Done...\n",
            "accuracy score:  0.34734734734734735\n",
            "precision score:  0.3374039226673212\n",
            "recall score:  0.34734734734734735\n",
            "classification_report: \n",
            "               precision    recall  f1-score   support\n",
            "\n",
            "          1       0.55      0.58      0.56       179\n",
            "          2       0.21      0.14      0.17       135\n",
            "          3       0.26      0.24      0.25       195\n",
            "          4       0.25      0.26      0.26       253\n",
            "          5       0.41      0.47      0.44       237\n",
            "\n",
            "avg / total       0.34      0.35      0.34       999\n",
            "\n",
            "confusion_matrix:\n",
            "  [[103  19  22  13  22]\n",
            " [ 29  19  36  31  20]\n",
            " [ 27  24  46  73  25]\n",
            " [ 13  22  57  67  94]\n",
            " [ 15   8  18  84 112]]\n"
          ],
          "name": "stdout"
        },
        {
          "output_type": "display_data",
          "data": {
            "image/png": "[encoded data removed]",
            "text/plain": [
              "<matplotlib.figure.Figure at 0x7fc5266ce650>"
            ]
          },
          "metadata": {
            "tags": []
          }
        }
      ]
    },
    {
      "metadata": {
        "id": "dqGcTXt0Un0V",
        "colab_type": "text"
      },
      "cell_type": "markdown",
      "source": [
        "## Results\n",
        "\n",
        "### Naive Bayes\n",
        "Multinomianal-Naive Bayes is evaluated on 100,000 instances. The results are represented with precision,\n",
        "recall and f1-score metrics. First, polarity of the reviews are observed (Fig. 2). Then same methods\n",
        "are implemented on 5 classes which represent 5 stars (Fig. 3). The results are observed relatively high\n",
        "for 2 classes polarity evaluation. However, a significant decrease is observed in the results for 5 classes.\n",
        "This inference can be based on the fact that lexicons with 4 and 5 stars are relatively close and lexicons\n",
        "with rating of 1,2 and 3 are relatively close.\n",
        "\n",
        "![alt text](https://github.com/PeterCapaldi/Yelp-Rating-Prediction/raw/master/image/ta1.png)\n",
        "![alt text](https://github.com/PeterCapaldi/Yelp-Rating-Prediction/raw/master/image/ta2.png)\n",
        "\n",
        "\n",
        "### Support Vector Machine\n",
        "Support Vector Machines is a discriminative classifier formally defined by a separating hyperplane. The\n",
        "algorithm outputs an optimal hyperplane which categorizes new incoming instances, given labeled training\n",
        "data.\n",
        "\n",
        "![alt text](https://github.com/PeterCapaldi/Yelp-Rating-Prediction/raw/master/image/ta5.png)\n",
        "![alt text](https://github.com/PeterCapaldi/Yelp-Rating-Prediction/raw/master/image/ta6.png)\n",
        "\n",
        "### Logistic Reg3ession\n",
        "The outcome is measured with a dichotomous variable (in\n",
        "this case, t4o to five possible outcomes). The goal was to find the best fitting model to describe the relationship\n",
        "between the dichotomous characteristic of interest (reviews) and a set of independent variables.\n",
        "\n",
        "![alt text](https://github.com/PeterCapaldi/Yelp-Rating-Prediction/raw/master/image/ta3.png)\n",
        "![alt text](https://github.com/PeterCapaldi/Yelp-Rating-Prediction/raw/master/image/ta4.png)\n"
      ]
    },
    {
      "metadata": {
        "id": "KonR3nODVXHl",
        "colab_type": "code",
        "colab": {}
      },
      "cell_type": "code",
      "source": [
        ""
      ],
      "execution_count": 0,
      "outputs": []
    }
  ]
}